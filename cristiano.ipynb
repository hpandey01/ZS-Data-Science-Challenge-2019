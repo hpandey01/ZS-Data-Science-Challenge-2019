{
 "cells": [
  {
   "cell_type": "code",
   "execution_count": 71,
   "metadata": {},
   "outputs": [],
   "source": [
    "import pandas as pd\n",
    "import tensorflow as tf\n",
    "from tensorflow import keras\n",
    "from tensorflow.keras import layers\n",
    "import numpy as np\n",
    "import time"
   ]
  },
  {
   "cell_type": "code",
   "execution_count": 72,
   "metadata": {},
   "outputs": [],
   "source": [
    "df=pd.read_csv(\"data.csv\")"
   ]
  },
  {
   "cell_type": "code",
   "execution_count": 73,
   "metadata": {},
   "outputs": [],
   "source": [
    "df2=df.pop('is_goal')"
   ]
  },
  {
   "cell_type": "code",
   "execution_count": 74,
   "metadata": {},
   "outputs": [],
   "source": [
    "df=df.fillna(-1)\n",
    "\n",
    "# converting season to int\n",
    "ses=df['game_season'].tolist()\n",
    "for i in range(len(ses)):\n",
    "    if type(ses[i])==type('abc'):\n",
    "        ses[i]=int(ses[i].split('-')[0])\n",
    "s = pd.Series(ses)\n",
    "df1 = pd.DataFrame({'game_season':(s)})\n",
    "df.pop('game_season')\n",
    "df=df.join(df1)"
   ]
  },
  {
   "cell_type": "code",
   "execution_count": 75,
   "metadata": {},
   "outputs": [],
   "source": [
    "# giving labels to area of shot\n",
    "ids=df['area_of_shot'].tolist()\n",
    "s = pd.Series(ids)\n",
    "labels, levels = pd.factorize(s)\n",
    "df1 = pd.DataFrame({'area_of_shot':(labels)})\n",
    "df.pop('area_of_shot')\n",
    "df=df.join(df1)"
   ]
  },
  {
   "cell_type": "code",
   "execution_count": 76,
   "metadata": {},
   "outputs": [],
   "source": [
    "# giving labels to shot basics\n",
    "ids=df['shot_basics'].tolist()\n",
    "s = pd.Series(ids)\n",
    "labels, levels = pd.factorize(s)\n",
    "df1 = pd.DataFrame({'shot_basics':(labels)})\n",
    "df.pop('shot_basics')\n",
    "df=df.join(df1)"
   ]
  },
  {
   "cell_type": "code",
   "execution_count": 77,
   "metadata": {},
   "outputs": [],
   "source": [
    "# giving labels to range of shots\n",
    "ids=df['range_of_shot'].tolist()\n",
    "s = pd.Series(ids)\n",
    "labels, levels = pd.factorize(s)\n",
    "df1 = pd.DataFrame({'range_of_shot':(labels)})\n",
    "df.pop('range_of_shot')\n",
    "df=df.join(df1)"
   ]
  },
  {
   "cell_type": "code",
   "execution_count": 78,
   "metadata": {},
   "outputs": [],
   "source": [
    "# giving labels to team name\n",
    "ids=df['team_name'].tolist()\n",
    "s = pd.Series(ids)\n",
    "labels, levels = pd.factorize(s)\n",
    "df1 = pd.DataFrame({'team_name':(labels)})\n",
    "df.pop('team_name')\n",
    "df=df.join(df1)"
   ]
  },
  {
   "cell_type": "code",
   "execution_count": 79,
   "metadata": {},
   "outputs": [],
   "source": [
    "# converting date to int\n",
    "ses=df['date_of_game'].tolist()\n",
    "for i in range(len(ses)):\n",
    "    if type(ses[i])==type('abc'):\n",
    "        ses[i]=''.join((ses[i].split('-')))\n",
    "        ses[i]=int(ses[i])\n",
    "s = pd.Series(ses)\n",
    "df1 = pd.DataFrame({'date_of_game':(s)})\n",
    "df.pop('date_of_game')\n",
    "df=df.join(df1)"
   ]
  },
  {
   "cell_type": "code",
   "execution_count": 80,
   "metadata": {},
   "outputs": [],
   "source": [
    "# giving labels to home/away\n",
    "ses=df['home/away'].tolist()\n",
    "for i in range(len(ses)):\n",
    "    if type(ses[i])==type('abc'):\n",
    "        x=ses[i].split(' ')[1]\n",
    "        if(x=='@'):\n",
    "            ses[i]=0\n",
    "        elif(x=='vs.'):\n",
    "            ses[i]=1\n",
    "s = pd.Series(ses)\n",
    "df1 = pd.DataFrame({'home/away':(s)})\n",
    "df.pop('home/away')\n",
    "df=df.join(df1)"
   ]
  },
  {
   "cell_type": "code",
   "execution_count": 81,
   "metadata": {},
   "outputs": [],
   "source": [
    "# giving labels to type of shot\n",
    "ids=df['type_of_shot'].tolist()\n",
    "s = pd.Series(ids)\n",
    "labels, levels = pd.factorize(s)\n",
    "df1 = pd.DataFrame({'type_of_shot':(labels)})\n",
    "df.pop('type_of_shot')\n",
    "df=df.join(df1)"
   ]
  },
  {
   "cell_type": "code",
   "execution_count": 82,
   "metadata": {},
   "outputs": [],
   "source": [
    "# giving labels to combined shot\n",
    "ids=df['type_of_combined_shot'].tolist()\n",
    "s = pd.Series(ids)\n",
    "labels, levels = pd.factorize(s)\n",
    "df1 = pd.DataFrame({'type_of_combined_shot':(labels)})\n",
    "df.pop('type_of_combined_shot')\n",
    "df=df.join(df1)"
   ]
  },
  {
   "cell_type": "code",
   "execution_count": 83,
   "metadata": {},
   "outputs": [],
   "source": [
    "# converting latitude longitude to int values\n",
    "ses=df['lat/lng'].tolist()\n",
    "for i in range(len(ses)):\n",
    "    if type(ses[i])==type('abc'):\n",
    "        ses[i]=float(ses[i].split(',')[0])+float(ses[i].split(',')[1])\n",
    "s = pd.Series(ses)\n",
    "df1 = pd.DataFrame({'lat/lng':(s)})\n",
    "df.pop('lat/lng')\n",
    "df=df.join(df1)"
   ]
  },
  {
   "cell_type": "code",
   "execution_count": 84,
   "metadata": {},
   "outputs": [],
   "source": [
    "stats = df.describe()\n",
    "stats=stats.transpose()"
   ]
  },
  {
   "cell_type": "code",
   "execution_count": 85,
   "metadata": {},
   "outputs": [],
   "source": [
    "def norm(x):\n",
    "    return (x - stats['mean']) / stats['std']\n",
    "normed_df = norm(df)\n",
    "df=df.join(df2)"
   ]
  },
  {
   "cell_type": "code",
   "execution_count": 86,
   "metadata": {},
   "outputs": [
    {
     "data": {
      "text/plain": [
       "0        1610612747\n",
       "1        1610612747\n",
       "2        1610612747\n",
       "3        1610612747\n",
       "4        1610612747\n",
       "5        1610612747\n",
       "6        1610612747\n",
       "7        1610612747\n",
       "8        1610612747\n",
       "9        1610612747\n",
       "10       1610612747\n",
       "11       1610612747\n",
       "12       1610612747\n",
       "13       1610612747\n",
       "14       1610612747\n",
       "15       1610612747\n",
       "16       1610612747\n",
       "17       1610612747\n",
       "18       1610612747\n",
       "19       1610612747\n",
       "20       1610612747\n",
       "21       1610612747\n",
       "22       1610612747\n",
       "23       1610612747\n",
       "24       1610612747\n",
       "25       1610612747\n",
       "26       1610612747\n",
       "27       1610612747\n",
       "28       1610612747\n",
       "29       1610612747\n",
       "            ...    \n",
       "30667    1610612747\n",
       "30668    1610612747\n",
       "30669    1610612747\n",
       "30670    1610612747\n",
       "30671    1610612747\n",
       "30672    1610612747\n",
       "30673    1610612747\n",
       "30674    1610612747\n",
       "30675    1610612747\n",
       "30676    1610612747\n",
       "30677    1610612747\n",
       "30678    1610612747\n",
       "30679    1610612747\n",
       "30680    1610612747\n",
       "30681    1610612747\n",
       "30682    1610612747\n",
       "30683    1610612747\n",
       "30684    1610612747\n",
       "30685    1610612747\n",
       "30686    1610612747\n",
       "30687    1610612747\n",
       "30688    1610612747\n",
       "30689    1610612747\n",
       "30690    1610612747\n",
       "30691    1610612747\n",
       "30692    1610612747\n",
       "30693    1610612747\n",
       "30694    1610612747\n",
       "30695    1610612747\n",
       "30696    1610612747\n",
       "Name: team_id, Length: 30697, dtype: int64"
      ]
     },
     "execution_count": 86,
     "metadata": {},
     "output_type": "execute_result"
    }
   ],
   "source": [
    "df.pop('team_id')"
   ]
  },
  {
   "cell_type": "code",
   "execution_count": 87,
   "metadata": {},
   "outputs": [],
   "source": [
    "df1 = df[pd.notnull(df['is_goal'])]"
   ]
  },
  {
   "cell_type": "code",
   "execution_count": 88,
   "metadata": {},
   "outputs": [],
   "source": [
    "df2 = df[pd.isnull(df['is_goal'])]"
   ]
  },
  {
   "cell_type": "code",
   "execution_count": 89,
   "metadata": {},
   "outputs": [],
   "source": [
    "train_dataset = df1.sample(frac=0.99,random_state=0)\n",
    "test_dataset = df1.drop(train_dataset.index)"
   ]
  },
  {
   "cell_type": "code",
   "execution_count": 90,
   "metadata": {},
   "outputs": [],
   "source": [
    "train_labels = train_dataset.pop('is_goal')\n",
    "test_labels = test_dataset.pop('is_goal')"
   ]
  },
  {
   "cell_type": "code",
   "execution_count": 91,
   "metadata": {},
   "outputs": [],
   "source": [
    "train_stats = train_dataset.describe()\n",
    "train_stats=train_stats.transpose()"
   ]
  },
  {
   "cell_type": "code",
   "execution_count": 92,
   "metadata": {},
   "outputs": [],
   "source": [
    "def norm(x):\n",
    "    return (x - train_stats['mean']) / train_stats['std']\n",
    "normed_train_data = norm(train_dataset)\n",
    "normed_test_data = norm(test_dataset)"
   ]
  },
  {
   "cell_type": "code",
   "execution_count": 93,
   "metadata": {},
   "outputs": [],
   "source": [
    "# neural network model\n",
    "def build_model():\n",
    "    model = keras.Sequential([\n",
    "    layers.Dense(64, activation=tf.nn.relu, input_shape=[len(normed_train_data.keys())]),\n",
    "    layers.Dropout(0.2),\n",
    "    layers.Dense(64, activation=tf.nn.relu),\n",
    "    layers.Dropout(0.2),\n",
    "    layers.Dense(64, activation=tf.nn.relu),\n",
    "    layers.Dropout(0.2),\n",
    "    layers.Dense(64, activation=tf.nn.relu),\n",
    "    layers.Dropout(0.2),\n",
    "    layers.Dense(64, activation=tf.nn.relu),\n",
    "    layers.Dropout(0.2),\n",
    "    layers.Dense(64, activation=tf.nn.relu),\n",
    "    layers.Dropout(0.2),\n",
    "    layers.Dense(1, activation=tf.nn.sigmoid)\n",
    "  ])\n",
    "\n",
    "    optimizer = tf.keras.optimizers.Adam(0.0001)\n",
    "\n",
    "    model.compile(loss='mean_squared_error',optimizer=optimizer,metrics=['mean_absolute_error', 'mean_squared_error'])\n",
    "    return model"
   ]
  },
  {
   "cell_type": "code",
   "execution_count": 94,
   "metadata": {},
   "outputs": [],
   "source": [
    "model = build_model()"
   ]
  },
  {
   "cell_type": "code",
   "execution_count": 95,
   "metadata": {},
   "outputs": [
    {
     "name": "stdout",
     "output_type": "stream",
     "text": [
      "\n",
      ".........."
     ]
    }
   ],
   "source": [
    "# Display training progress by printing a single dot for each completed epoch\n",
    "tic=time.time()\n",
    "class PrintDot(keras.callbacks.Callback):\n",
    "    def on_epoch_end(self, epoch, logs):\n",
    "        if epoch % 100 == 0: print('')\n",
    "        print('.', end='')\n",
    "\n",
    "EPOCHS = 500\n",
    "\n",
    "history = model.fit(\n",
    "  normed_train_data, train_labels,\n",
    "  epochs=EPOCHS, validation_split = 0.2, verbose=0,\n",
    "    callbacks=[PrintDot()])\n",
    "toc=time.time()"
   ]
  },
  {
   "cell_type": "code",
   "execution_count": 96,
   "metadata": {},
   "outputs": [
    {
     "name": "stdout",
     "output_type": "stream",
     "text": [
      "Testing set Mean abs Error:  0.48\n",
      "Time taken for training:16.240832090377808\n"
     ]
    }
   ],
   "source": [
    "# training accuracy\n",
    "loss, mae, mse = model.evaluate(normed_train_data,train_labels, verbose=0)\n",
    "\n",
    "print(\"Testing set Mean abs Error: {:5.2f}\".format(mae))\n",
    "print(\"Time taken for training:\"+str(toc-tic))"
   ]
  },
  {
   "cell_type": "code",
   "execution_count": 97,
   "metadata": {},
   "outputs": [
    {
     "name": "stdout",
     "output_type": "stream",
     "text": [
      "Testing set Mean abs Error:  0.47\n",
      "Time taken for training:16.240832090377808\n"
     ]
    }
   ],
   "source": [
    "# test accuracy\n",
    "loss, mae, mse = model.evaluate(normed_test_data,test_labels, verbose=0)\n",
    "\n",
    "print(\"Testing set Mean abs Error: {:5.2f}\".format(mae))\n",
    "print(\"Time taken for training:\"+str(toc-tic))"
   ]
  },
  {
   "cell_type": "code",
   "execution_count": 98,
   "metadata": {},
   "outputs": [],
   "source": [
    "z=df2.pop('is_goal')"
   ]
  },
  {
   "cell_type": "code",
   "execution_count": 99,
   "metadata": {},
   "outputs": [],
   "source": [
    "# compiling result to csv\n",
    "x=model.predict(norm(df2))\n",
    "y=[]\n",
    "for i in x:\n",
    "    y.append(i[0])"
   ]
  },
  {
   "cell_type": "code",
   "execution_count": 100,
   "metadata": {},
   "outputs": [],
   "source": [
    "dff=df2['shot_id_number'].copy()\n",
    "dff=dff.to_frame().reset_index()"
   ]
  },
  {
   "cell_type": "code",
   "execution_count": 101,
   "metadata": {},
   "outputs": [],
   "source": [
    "s = pd.Series(y)\n",
    "df1 = pd.DataFrame({'is_goal':(s)})\n",
    "dff=dff.join(df1)\n",
    "# # dff.to_csv('submission_1.csv')\n",
    "# dff.keys()"
   ]
  },
  {
   "cell_type": "code",
   "execution_count": 102,
   "metadata": {},
   "outputs": [
    {
     "data": {
      "text/plain": [
       "0           0\n",
       "1           7\n",
       "2          16\n",
       "3          19\n",
       "4          21\n",
       "5          32\n",
       "6          33\n",
       "7          34\n",
       "8          35\n",
       "9          36\n",
       "10         37\n",
       "11         44\n",
       "12         49\n",
       "13         54\n",
       "14         59\n",
       "15         61\n",
       "16         65\n",
       "17         66\n",
       "18         70\n",
       "19         71\n",
       "20         75\n",
       "21         79\n",
       "22         84\n",
       "23         85\n",
       "24         86\n",
       "25         91\n",
       "26         94\n",
       "27         96\n",
       "28        103\n",
       "29        112\n",
       "        ...  \n",
       "6238    30567\n",
       "6239    30569\n",
       "6240    30580\n",
       "6241    30583\n",
       "6242    30590\n",
       "6243    30593\n",
       "6244    30613\n",
       "6245    30616\n",
       "6246    30617\n",
       "6247    30625\n",
       "6248    30629\n",
       "6249    30630\n",
       "6250    30631\n",
       "6251    30633\n",
       "6252    30635\n",
       "6253    30636\n",
       "6254    30638\n",
       "6255    30646\n",
       "6256    30648\n",
       "6257    30655\n",
       "6258    30659\n",
       "6259    30664\n",
       "6260    30668\n",
       "6261    30679\n",
       "6262    30680\n",
       "6263    30681\n",
       "6264    30682\n",
       "6265    30686\n",
       "6266    30687\n",
       "6267    30693\n",
       "Name: index, Length: 6268, dtype: int64"
      ]
     },
     "execution_count": 102,
     "metadata": {},
     "output_type": "execute_result"
    }
   ],
   "source": [
    "dff.pop('index')"
   ]
  },
  {
   "cell_type": "code",
   "execution_count": 103,
   "metadata": {},
   "outputs": [],
   "source": [
    "dff.to_csv('submission.csv')"
   ]
  },
  {
   "cell_type": "code",
   "execution_count": null,
   "metadata": {},
   "outputs": [],
   "source": []
  }
 ],
 "metadata": {
  "kernelspec": {
   "display_name": "Python 3",
   "language": "python",
   "name": "python3"
  },
  "language_info": {
   "codemirror_mode": {
    "name": "ipython",
    "version": 3
   },
   "file_extension": ".py",
   "mimetype": "text/x-python",
   "name": "python",
   "nbconvert_exporter": "python",
   "pygments_lexer": "ipython3",
   "version": "3.5.2"
  }
 },
 "nbformat": 4,
 "nbformat_minor": 2
}
